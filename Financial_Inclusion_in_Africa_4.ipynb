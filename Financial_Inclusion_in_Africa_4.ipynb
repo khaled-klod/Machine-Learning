{
  "nbformat": 4,
  "nbformat_minor": 0,
  "metadata": {
    "colab": {
      "name": "Financial Inclusion in Africa 4.ipynb",
      "version": "0.3.2",
      "provenance": [],
      "include_colab_link": true
    },
    "kernelspec": {
      "name": "python3",
      "display_name": "Python 3"
    }
  },
  "cells": [
    {
      "cell_type": "markdown",
      "metadata": {
        "id": "view-in-github",
        "colab_type": "text"
      },
      "source": [
        "<a href=\"https://colab.research.google.com/github/kodeklaude/kodeklaude.github.io/blob/master/Financial_Inclusion_in_Africa_4.ipynb\" target=\"_parent\"><img src=\"https://colab.research.google.com/assets/colab-badge.svg\" alt=\"Open In Colab\"/></a>"
      ]
    },
    {
      "cell_type": "code",
      "metadata": {
        "id": "GeikgGaJKXCW",
        "colab_type": "code",
        "colab": {}
      },
      "source": [
        "import matplotlib.pyplot as plt\n",
        "import seaborn as sns\n",
        "from scipy import stats\n",
        "from scipy.stats import norm, skew\n",
        "import numpy as np\n",
        "import pylab\n",
        "import pandas as pd"
      ],
      "execution_count": 0,
      "outputs": []
    },
    {
      "cell_type": "code",
      "metadata": {
        "id": "EVdqbCGDKp3o",
        "colab_type": "code",
        "colab": {
          "base_uri": "https://localhost:8080/",
          "height": 34
        },
        "outputId": "63cd79b6-ffbb-4aff-b024-d44bc1319f86"
      },
      "source": [
        "from google.colab import drive\n",
        "drive.mount('/content/gdrive')\n",
        "\n",
        "test = pd.read_csv('/content/gdrive/My Drive/Financial Inclusion in Africa/data/Test_v2.csv')\n",
        "train = pd.read_csv('/content/gdrive/My Drive/Financial Inclusion in Africa/data/Train_v2.csv')\n",
        "submission = pd.read_csv('/content/gdrive/My Drive/Financial Inclusion in Africa/data/SubmissionFile.csv')\n",
        "\n"
      ],
      "execution_count": 37,
      "outputs": [
        {
          "output_type": "stream",
          "text": [
            "Drive already mounted at /content/gdrive; to attempt to forcibly remount, call drive.mount(\"/content/gdrive\", force_remount=True).\n"
          ],
          "name": "stdout"
        }
      ]
    },
    {
      "cell_type": "code",
      "metadata": {
        "id": "M7t0Bq-PKrJj",
        "colab_type": "code",
        "colab": {}
      },
      "source": [
        "train_ID = train['uniqueid']\n",
        "test_ID = test['uniqueid']\n",
        "\n",
        "#Now drop the  'Id' colum since it's unnecessary for  the prediction process.\n",
        "train.drop(\"uniqueid\", axis = 1, inplace = True)\n",
        "test.drop(\"uniqueid\", axis = 1, inplace = True)"
      ],
      "execution_count": 0,
      "outputs": []
    },
    {
      "cell_type": "code",
      "metadata": {
        "id": "7t-g39ARKu06",
        "colab_type": "code",
        "colab": {}
      },
      "source": [
        "from sklearn.preprocessing import LabelEncoder\n",
        "le = LabelEncoder() \n",
        "train[\"bank_account\"] = le.fit_transform(train[\"bank_account\"])"
      ],
      "execution_count": 0,
      "outputs": []
    },
    {
      "cell_type": "code",
      "metadata": {
        "id": "gjyMytfeTZsN",
        "colab_type": "code",
        "colab": {}
      },
      "source": [
        "outliers = train.loc[(train['household_size']>15)]\n",
        "train = train.drop(train.index[outliers.index])"
      ],
      "execution_count": 0,
      "outputs": []
    },
    {
      "cell_type": "code",
      "metadata": {
        "id": "FnGva2xOK4Qq",
        "colab_type": "code",
        "colab": {
          "base_uri": "https://localhost:8080/",
          "height": 170
        },
        "outputId": "1caa0aa1-210e-414c-bad7-2220ffbbf1f0"
      },
      "source": [
        "ntrain = train.shape[0]\n",
        "ntest = test.shape[0]\n",
        "y_train = train.bank_account.values\n",
        "all_data = pd.concat((train, test)).reset_index(drop=True)\n",
        "all_data.drop(['bank_account'], axis=1, inplace=True)\n",
        "print(\"all_data size is : {}\".format(all_data.shape))"
      ],
      "execution_count": 41,
      "outputs": [
        {
          "output_type": "stream",
          "text": [
            "all_data size is : (33602, 11)\n"
          ],
          "name": "stdout"
        },
        {
          "output_type": "stream",
          "text": [
            "/usr/local/lib/python3.6/dist-packages/ipykernel_launcher.py:4: FutureWarning: Sorting because non-concatenation axis is not aligned. A future version\n",
            "of pandas will change to not sort by default.\n",
            "\n",
            "To accept the future behavior, pass 'sort=False'.\n",
            "\n",
            "To retain the current behavior and silence the warning, pass 'sort=True'.\n",
            "\n",
            "  after removing the cwd from sys.path.\n"
          ],
          "name": "stderr"
        }
      ]
    },
    {
      "cell_type": "code",
      "metadata": {
        "id": "iY0tbK5KK6Uk",
        "colab_type": "code",
        "colab": {
          "base_uri": "https://localhost:8080/",
          "height": 326
        },
        "outputId": "28ed4b2a-9261-40c7-fe73-c96e565574c8"
      },
      "source": [
        "all_data.head()"
      ],
      "execution_count": 18,
      "outputs": [
        {
          "output_type": "execute_result",
          "data": {
            "text/html": [
              "<div>\n",
              "<style scoped>\n",
              "    .dataframe tbody tr th:only-of-type {\n",
              "        vertical-align: middle;\n",
              "    }\n",
              "\n",
              "    .dataframe tbody tr th {\n",
              "        vertical-align: top;\n",
              "    }\n",
              "\n",
              "    .dataframe thead th {\n",
              "        text-align: right;\n",
              "    }\n",
              "</style>\n",
              "<table border=\"1\" class=\"dataframe\">\n",
              "  <thead>\n",
              "    <tr style=\"text-align: right;\">\n",
              "      <th></th>\n",
              "      <th>age_of_respondent</th>\n",
              "      <th>cellphone_access</th>\n",
              "      <th>country</th>\n",
              "      <th>education_level</th>\n",
              "      <th>gender_of_respondent</th>\n",
              "      <th>household_size</th>\n",
              "      <th>job_type</th>\n",
              "      <th>location_type</th>\n",
              "      <th>marital_status</th>\n",
              "      <th>relationship_with_head</th>\n",
              "      <th>year</th>\n",
              "    </tr>\n",
              "  </thead>\n",
              "  <tbody>\n",
              "    <tr>\n",
              "      <th>0</th>\n",
              "      <td>2.213364</td>\n",
              "      <td>Yes</td>\n",
              "      <td>Kenya</td>\n",
              "      <td>Secondary education</td>\n",
              "      <td>Female</td>\n",
              "      <td>3</td>\n",
              "      <td>Self employed</td>\n",
              "      <td>Rural</td>\n",
              "      <td>Married/Living together</td>\n",
              "      <td>Spouse</td>\n",
              "      <td>2018</td>\n",
              "    </tr>\n",
              "    <tr>\n",
              "      <th>1</th>\n",
              "      <td>2.892508</td>\n",
              "      <td>No</td>\n",
              "      <td>Kenya</td>\n",
              "      <td>No formal education</td>\n",
              "      <td>Female</td>\n",
              "      <td>5</td>\n",
              "      <td>Government Dependent</td>\n",
              "      <td>Rural</td>\n",
              "      <td>Widowed</td>\n",
              "      <td>Head of Household</td>\n",
              "      <td>2018</td>\n",
              "    </tr>\n",
              "    <tr>\n",
              "      <th>2</th>\n",
              "      <td>2.258101</td>\n",
              "      <td>Yes</td>\n",
              "      <td>Kenya</td>\n",
              "      <td>Vocational/Specialised training</td>\n",
              "      <td>Male</td>\n",
              "      <td>5</td>\n",
              "      <td>Self employed</td>\n",
              "      <td>Urban</td>\n",
              "      <td>Single/Never Married</td>\n",
              "      <td>Other relative</td>\n",
              "      <td>2018</td>\n",
              "    </tr>\n",
              "    <tr>\n",
              "      <th>3</th>\n",
              "      <td>2.414736</td>\n",
              "      <td>Yes</td>\n",
              "      <td>Kenya</td>\n",
              "      <td>Primary education</td>\n",
              "      <td>Female</td>\n",
              "      <td>5</td>\n",
              "      <td>Formally employed Private</td>\n",
              "      <td>Rural</td>\n",
              "      <td>Married/Living together</td>\n",
              "      <td>Head of Household</td>\n",
              "      <td>2018</td>\n",
              "    </tr>\n",
              "    <tr>\n",
              "      <th>4</th>\n",
              "      <td>2.258101</td>\n",
              "      <td>No</td>\n",
              "      <td>Kenya</td>\n",
              "      <td>Primary education</td>\n",
              "      <td>Male</td>\n",
              "      <td>8</td>\n",
              "      <td>Informally employed</td>\n",
              "      <td>Urban</td>\n",
              "      <td>Single/Never Married</td>\n",
              "      <td>Child</td>\n",
              "      <td>2018</td>\n",
              "    </tr>\n",
              "  </tbody>\n",
              "</table>\n",
              "</div>"
            ],
            "text/plain": [
              "   age_of_respondent cellphone_access  ... relationship_with_head  year\n",
              "0           2.213364              Yes  ...                 Spouse  2018\n",
              "1           2.892508               No  ...      Head of Household  2018\n",
              "2           2.258101              Yes  ...         Other relative  2018\n",
              "3           2.414736              Yes  ...      Head of Household  2018\n",
              "4           2.258101               No  ...                  Child  2018\n",
              "\n",
              "[5 rows x 11 columns]"
            ]
          },
          "metadata": {
            "tags": []
          },
          "execution_count": 18
        }
      ]
    },
    {
      "cell_type": "code",
      "metadata": {
        "id": "766jeI4tK-Uz",
        "colab_type": "code",
        "colab": {
          "base_uri": "https://localhost:8080/",
          "height": 286
        },
        "outputId": "7efb70e5-6f30-433b-f249-ca5f269f6e75"
      },
      "source": [
        "all_data.age_of_respondent.hist(bins=40)"
      ],
      "execution_count": 13,
      "outputs": [
        {
          "output_type": "execute_result",
          "data": {
            "text/plain": [
              "<matplotlib.axes._subplots.AxesSubplot at 0x7fdc5af966a0>"
            ]
          },
          "metadata": {
            "tags": []
          },
          "execution_count": 13
        },
        {
          "output_type": "display_data",
          "data": {
            "image/png": "[encoded data removed]",
            "text/plain": [
              "<Figure size 432x288 with 1 Axes>"
            ]
          },
          "metadata": {
            "tags": []
          }
        }
      ]
    },
    {
      "cell_type": "code",
      "metadata": {
        "id": "tGNbi4yWLDh-",
        "colab_type": "code",
        "colab": {}
      },
      "source": [
        "all_data.age_of_respondent = all_data.age_of_respondent**(1/4)"
      ],
      "execution_count": 0,
      "outputs": []
    },
    {
      "cell_type": "code",
      "metadata": {
        "id": "5Ff-4qThLSAa",
        "colab_type": "code",
        "colab": {
          "base_uri": "https://localhost:8080/",
          "height": 295
        },
        "outputId": "0344736a-4378-41e6-f2d1-b050e81c9637"
      },
      "source": [
        "stats.probplot((all_data.age_of_respondent**(1/4)), dist=\"norm\", plot=pylab)\n",
        "pylab.show()"
      ],
      "execution_count": 43,
      "outputs": [
        {
          "output_type": "display_data",
          "data": {
            "image/png": "[encoded data removed]",
            "text/plain": [
              "<Figure size 432x288 with 1 Axes>"
            ]
          },
          "metadata": {
            "tags": []
          }
        }
      ]
    },
    {
      "cell_type": "code",
      "metadata": {
        "id": "QC1fRXgTNqUd",
        "colab_type": "code",
        "colab": {
          "base_uri": "https://localhost:8080/",
          "height": 286
        },
        "outputId": "3ebf5d80-eee2-4066-8e1d-97e1b31d8248"
      },
      "source": [
        "all_data.household_size.hist()"
      ],
      "execution_count": 44,
      "outputs": [
        {
          "output_type": "execute_result",
          "data": {
            "text/plain": [
              "<matplotlib.axes._subplots.AxesSubplot at 0x7fdc607da1d0>"
            ]
          },
          "metadata": {
            "tags": []
          },
          "execution_count": 44
        },
        {
          "output_type": "display_data",
          "data": {
            "image/png": "[encoded data removed]",
            "text/plain": [
              "<Figure size 432x288 with 1 Axes>"
            ]
          },
          "metadata": {
            "tags": []
          }
        }
      ]
    },
    {
      "cell_type": "code",
      "metadata": {
        "id": "udUjCIlzOh7p",
        "colab_type": "code",
        "colab": {
          "base_uri": "https://localhost:8080/",
          "height": 286
        },
        "outputId": "9e35beaf-0c34-4d9b-96ae-51eb112e11fb"
      },
      "source": [
        "(all_data.household_size**(1/2)).hist()"
      ],
      "execution_count": 20,
      "outputs": [
        {
          "output_type": "execute_result",
          "data": {
            "text/plain": [
              "<matplotlib.axes._subplots.AxesSubplot at 0x7fdc5ad59828>"
            ]
          },
          "metadata": {
            "tags": []
          },
          "execution_count": 20
        },
        {
          "output_type": "display_data",
          "data": {
            "image/png": "[encoded data removed]",
            "text/plain": [
              "<Figure size 432x288 with 1 Axes>"
            ]
          },
          "metadata": {
            "tags": []
          }
        }
      ]
    },
    {
      "cell_type": "code",
      "metadata": {
        "id": "JmmS9elbOrOZ",
        "colab_type": "code",
        "colab": {
          "base_uri": "https://localhost:8080/",
          "height": 340
        },
        "outputId": "12503fee-08e0-4d11-b7c8-cec14fceeddc"
      },
      "source": [
        "all_data.household_size.value_counts().sort_values()"
      ],
      "execution_count": 47,
      "outputs": [
        {
          "output_type": "execute_result",
          "data": {
            "text/plain": [
              "18       1\n",
              "20       2\n",
              "16       3\n",
              "14      11\n",
              "15      16\n",
              "13      31\n",
              "11      94\n",
              "12      96\n",
              "10     276\n",
              "9      510\n",
              "8     1072\n",
              "7     1980\n",
              "6     2973\n",
              "5     4135\n",
              "1     4377\n",
              "4     4966\n",
              "3     5558\n",
              "2     7501\n",
              "Name: household_size, dtype: int64"
            ]
          },
          "metadata": {
            "tags": []
          },
          "execution_count": 47
        }
      ]
    },
    {
      "cell_type": "code",
      "metadata": {
        "id": "cR7UZvRETmRo",
        "colab_type": "code",
        "colab": {
          "base_uri": "https://localhost:8080/",
          "height": 295
        },
        "outputId": "dc4b3fda-5703-4e88-8795-c45f9064e2a7"
      },
      "source": [
        "stats.probplot((all_data.household_size**(1/2)), dist=\"norm\", plot=pylab)\n",
        "pylab.show()"
      ],
      "execution_count": 53,
      "outputs": [
        {
          "output_type": "display_data",
          "data": {
            "image/png": "[encoded data removed]",
            "text/plain": [
              "<Figure size 432x288 with 1 Axes>"
            ]
          },
          "metadata": {
            "tags": []
          }
        }
      ]
    },
    {
      "cell_type": "code",
      "metadata": {
        "id": "BWmrxwSsUFVI",
        "colab_type": "code",
        "colab": {}
      },
      "source": [
        "all_data.household_size = all_data.household_size**(1/2)"
      ],
      "execution_count": 0,
      "outputs": []
    },
    {
      "cell_type": "code",
      "metadata": {
        "id": "YtGwV9M3Usnv",
        "colab_type": "code",
        "colab": {}
      },
      "source": [
        "year_mapping = {2016:0, 2017:1, 2018:2}\n",
        "\n",
        "all_data['year'] = all_data['year'].map(year_mapping)"
      ],
      "execution_count": 0,
      "outputs": []
    },
    {
      "cell_type": "code",
      "metadata": {
        "id": "raORN1ibUYoX",
        "colab_type": "code",
        "colab": {
          "base_uri": "https://localhost:8080/",
          "height": 153
        },
        "outputId": "650d5d2e-1c72-4b7c-fa61-83eae3f1209c"
      },
      "source": [
        "one_hot_cols = all_data.columns.tolist()\n",
        "one_hot_cols.remove('household_size')\n",
        "one_hot_cols.remove('year')\n",
        "one_hot_cols.remove('age_of_respondent')\n",
        "\n",
        "one_hot_cols"
      ],
      "execution_count": 58,
      "outputs": [
        {
          "output_type": "execute_result",
          "data": {
            "text/plain": [
              "['cellphone_access',\n",
              " 'country',\n",
              " 'education_level',\n",
              " 'gender_of_respondent',\n",
              " 'job_type',\n",
              " 'location_type',\n",
              " 'marital_status',\n",
              " 'relationship_with_head']"
            ]
          },
          "metadata": {
            "tags": []
          },
          "execution_count": 58
        }
      ]
    },
    {
      "cell_type": "code",
      "metadata": {
        "id": "PzUZHRJNU0YI",
        "colab_type": "code",
        "colab": {
          "base_uri": "https://localhost:8080/",
          "height": 258
        },
        "outputId": "ad2c3da7-4f31-4945-f06e-8f6c5d8954e1"
      },
      "source": [
        "df = pd.get_dummies(all_data, columns=one_hot_cols)\n",
        "df.head()"
      ],
      "execution_count": 59,
      "outputs": [
        {
          "output_type": "execute_result",
          "data": {
            "text/html": [
              "<div>\n",
              "<style scoped>\n",
              "    .dataframe tbody tr th:only-of-type {\n",
              "        vertical-align: middle;\n",
              "    }\n",
              "\n",
              "    .dataframe tbody tr th {\n",
              "        vertical-align: top;\n",
              "    }\n",
              "\n",
              "    .dataframe thead th {\n",
              "        text-align: right;\n",
              "    }\n",
              "</style>\n",
              "<table border=\"1\" class=\"dataframe\">\n",
              "  <thead>\n",
              "    <tr style=\"text-align: right;\">\n",
              "      <th></th>\n",
              "      <th>age_of_respondent</th>\n",
              "      <th>household_size</th>\n",
              "      <th>year</th>\n",
              "      <th>cellphone_access_No</th>\n",
              "      <th>cellphone_access_Yes</th>\n",
              "      <th>country_Kenya</th>\n",
              "      <th>country_Rwanda</th>\n",
              "      <th>country_Tanzania</th>\n",
              "      <th>country_Uganda</th>\n",
              "      <th>education_level_No formal education</th>\n",
              "      <th>education_level_Other/Dont know/RTA</th>\n",
              "      <th>education_level_Primary education</th>\n",
              "      <th>education_level_Secondary education</th>\n",
              "      <th>education_level_Tertiary education</th>\n",
              "      <th>education_level_Vocational/Specialised training</th>\n",
              "      <th>gender_of_respondent_Female</th>\n",
              "      <th>gender_of_respondent_Male</th>\n",
              "      <th>job_type_Dont Know/Refuse to answer</th>\n",
              "      <th>job_type_Farming and Fishing</th>\n",
              "      <th>job_type_Formally employed Government</th>\n",
              "      <th>job_type_Formally employed Private</th>\n",
              "      <th>job_type_Government Dependent</th>\n",
              "      <th>job_type_Informally employed</th>\n",
              "      <th>job_type_No Income</th>\n",
              "      <th>job_type_Other Income</th>\n",
              "      <th>job_type_Remittance Dependent</th>\n",
              "      <th>job_type_Self employed</th>\n",
              "      <th>location_type_Rural</th>\n",
              "      <th>location_type_Urban</th>\n",
              "      <th>marital_status_Divorced/Seperated</th>\n",
              "      <th>marital_status_Dont know</th>\n",
              "      <th>marital_status_Married/Living together</th>\n",
              "      <th>marital_status_Single/Never Married</th>\n",
              "      <th>marital_status_Widowed</th>\n",
              "      <th>relationship_with_head_Child</th>\n",
              "      <th>relationship_with_head_Head of Household</th>\n",
              "      <th>relationship_with_head_Other non-relatives</th>\n",
              "      <th>relationship_with_head_Other relative</th>\n",
              "      <th>relationship_with_head_Parent</th>\n",
              "      <th>relationship_with_head_Spouse</th>\n",
              "    </tr>\n",
              "  </thead>\n",
              "  <tbody>\n",
              "    <tr>\n",
              "      <th>0</th>\n",
              "      <td>2.213364</td>\n",
              "      <td>1.732051</td>\n",
              "      <td>2</td>\n",
              "      <td>0</td>\n",
              "      <td>1</td>\n",
              "      <td>1</td>\n",
              "      <td>0</td>\n",
              "      <td>0</td>\n",
              "      <td>0</td>\n",
              "      <td>0</td>\n",
              "      <td>0</td>\n",
              "      <td>0</td>\n",
              "      <td>1</td>\n",
              "      <td>0</td>\n",
              "      <td>0</td>\n",
              "      <td>1</td>\n",
              "      <td>0</td>\n",
              "      <td>0</td>\n",
              "      <td>0</td>\n",
              "      <td>0</td>\n",
              "      <td>0</td>\n",
              "      <td>0</td>\n",
              "      <td>0</td>\n",
              "      <td>0</td>\n",
              "      <td>0</td>\n",
              "      <td>0</td>\n",
              "      <td>1</td>\n",
              "      <td>1</td>\n",
              "      <td>0</td>\n",
              "      <td>0</td>\n",
              "      <td>0</td>\n",
              "      <td>1</td>\n",
              "      <td>0</td>\n",
              "      <td>0</td>\n",
              "      <td>0</td>\n",
              "      <td>0</td>\n",
              "      <td>0</td>\n",
              "      <td>0</td>\n",
              "      <td>0</td>\n",
              "      <td>1</td>\n",
              "    </tr>\n",
              "    <tr>\n",
              "      <th>1</th>\n",
              "      <td>2.892508</td>\n",
              "      <td>2.236068</td>\n",
              "      <td>2</td>\n",
              "      <td>1</td>\n",
              "      <td>0</td>\n",
              "      <td>1</td>\n",
              "      <td>0</td>\n",
              "      <td>0</td>\n",
              "      <td>0</td>\n",
              "      <td>1</td>\n",
              "      <td>0</td>\n",
              "      <td>0</td>\n",
              "      <td>0</td>\n",
              "      <td>0</td>\n",
              "      <td>0</td>\n",
              "      <td>1</td>\n",
              "      <td>0</td>\n",
              "      <td>0</td>\n",
              "      <td>0</td>\n",
              "      <td>0</td>\n",
              "      <td>0</td>\n",
              "      <td>1</td>\n",
              "      <td>0</td>\n",
              "      <td>0</td>\n",
              "      <td>0</td>\n",
              "      <td>0</td>\n",
              "      <td>0</td>\n",
              "      <td>1</td>\n",
              "      <td>0</td>\n",
              "      <td>0</td>\n",
              "      <td>0</td>\n",
              "      <td>0</td>\n",
              "      <td>0</td>\n",
              "      <td>1</td>\n",
              "      <td>0</td>\n",
              "      <td>1</td>\n",
              "      <td>0</td>\n",
              "      <td>0</td>\n",
              "      <td>0</td>\n",
              "      <td>0</td>\n",
              "    </tr>\n",
              "    <tr>\n",
              "      <th>2</th>\n",
              "      <td>2.258101</td>\n",
              "      <td>2.236068</td>\n",
              "      <td>2</td>\n",
              "      <td>0</td>\n",
              "      <td>1</td>\n",
              "      <td>1</td>\n",
              "      <td>0</td>\n",
              "      <td>0</td>\n",
              "      <td>0</td>\n",
              "      <td>0</td>\n",
              "      <td>0</td>\n",
              "      <td>0</td>\n",
              "      <td>0</td>\n",
              "      <td>0</td>\n",
              "      <td>1</td>\n",
              "      <td>0</td>\n",
              "      <td>1</td>\n",
              "      <td>0</td>\n",
              "      <td>0</td>\n",
              "      <td>0</td>\n",
              "      <td>0</td>\n",
              "      <td>0</td>\n",
              "      <td>0</td>\n",
              "      <td>0</td>\n",
              "      <td>0</td>\n",
              "      <td>0</td>\n",
              "      <td>1</td>\n",
              "      <td>0</td>\n",
              "      <td>1</td>\n",
              "      <td>0</td>\n",
              "      <td>0</td>\n",
              "      <td>0</td>\n",
              "      <td>1</td>\n",
              "      <td>0</td>\n",
              "      <td>0</td>\n",
              "      <td>0</td>\n",
              "      <td>0</td>\n",
              "      <td>1</td>\n",
              "      <td>0</td>\n",
              "      <td>0</td>\n",
              "    </tr>\n",
              "    <tr>\n",
              "      <th>3</th>\n",
              "      <td>2.414736</td>\n",
              "      <td>2.236068</td>\n",
              "      <td>2</td>\n",
              "      <td>0</td>\n",
              "      <td>1</td>\n",
              "      <td>1</td>\n",
              "      <td>0</td>\n",
              "      <td>0</td>\n",
              "      <td>0</td>\n",
              "      <td>0</td>\n",
              "      <td>0</td>\n",
              "      <td>1</td>\n",
              "      <td>0</td>\n",
              "      <td>0</td>\n",
              "      <td>0</td>\n",
              "      <td>1</td>\n",
              "      <td>0</td>\n",
              "      <td>0</td>\n",
              "      <td>0</td>\n",
              "      <td>0</td>\n",
              "      <td>1</td>\n",
              "      <td>0</td>\n",
              "      <td>0</td>\n",
              "      <td>0</td>\n",
              "      <td>0</td>\n",
              "      <td>0</td>\n",
              "      <td>0</td>\n",
              "      <td>1</td>\n",
              "      <td>0</td>\n",
              "      <td>0</td>\n",
              "      <td>0</td>\n",
              "      <td>1</td>\n",
              "      <td>0</td>\n",
              "      <td>0</td>\n",
              "      <td>0</td>\n",
              "      <td>1</td>\n",
              "      <td>0</td>\n",
              "      <td>0</td>\n",
              "      <td>0</td>\n",
              "      <td>0</td>\n",
              "    </tr>\n",
              "    <tr>\n",
              "      <th>4</th>\n",
              "      <td>2.258101</td>\n",
              "      <td>2.828427</td>\n",
              "      <td>2</td>\n",
              "      <td>1</td>\n",
              "      <td>0</td>\n",
              "      <td>1</td>\n",
              "      <td>0</td>\n",
              "      <td>0</td>\n",
              "      <td>0</td>\n",
              "      <td>0</td>\n",
              "      <td>0</td>\n",
              "      <td>1</td>\n",
              "      <td>0</td>\n",
              "      <td>0</td>\n",
              "      <td>0</td>\n",
              "      <td>0</td>\n",
              "      <td>1</td>\n",
              "      <td>0</td>\n",
              "      <td>0</td>\n",
              "      <td>0</td>\n",
              "      <td>0</td>\n",
              "      <td>0</td>\n",
              "      <td>1</td>\n",
              "      <td>0</td>\n",
              "      <td>0</td>\n",
              "      <td>0</td>\n",
              "      <td>0</td>\n",
              "      <td>0</td>\n",
              "      <td>1</td>\n",
              "      <td>0</td>\n",
              "      <td>0</td>\n",
              "      <td>0</td>\n",
              "      <td>1</td>\n",
              "      <td>0</td>\n",
              "      <td>1</td>\n",
              "      <td>0</td>\n",
              "      <td>0</td>\n",
              "      <td>0</td>\n",
              "      <td>0</td>\n",
              "      <td>0</td>\n",
              "    </tr>\n",
              "  </tbody>\n",
              "</table>\n",
              "</div>"
            ],
            "text/plain": [
              "   age_of_respondent  ...  relationship_with_head_Spouse\n",
              "0           2.213364  ...                              1\n",
              "1           2.892508  ...                              0\n",
              "2           2.258101  ...                              0\n",
              "3           2.414736  ...                              0\n",
              "4           2.258101  ...                              0\n",
              "\n",
              "[5 rows x 40 columns]"
            ]
          },
          "metadata": {
            "tags": []
          },
          "execution_count": 59
        }
      ]
    },
    {
      "cell_type": "code",
      "metadata": {
        "id": "nsAwrJr4VS1H",
        "colab_type": "code",
        "colab": {
          "base_uri": "https://localhost:8080/",
          "height": 326
        },
        "outputId": "38611bc0-ff2e-465f-b823-ebac76f40fc2"
      },
      "source": [
        "all_data.head()"
      ],
      "execution_count": 60,
      "outputs": [
        {
          "output_type": "execute_result",
          "data": {
            "text/html": [
              "<div>\n",
              "<style scoped>\n",
              "    .dataframe tbody tr th:only-of-type {\n",
              "        vertical-align: middle;\n",
              "    }\n",
              "\n",
              "    .dataframe tbody tr th {\n",
              "        vertical-align: top;\n",
              "    }\n",
              "\n",
              "    .dataframe thead th {\n",
              "        text-align: right;\n",
              "    }\n",
              "</style>\n",
              "<table border=\"1\" class=\"dataframe\">\n",
              "  <thead>\n",
              "    <tr style=\"text-align: right;\">\n",
              "      <th></th>\n",
              "      <th>age_of_respondent</th>\n",
              "      <th>cellphone_access</th>\n",
              "      <th>country</th>\n",
              "      <th>education_level</th>\n",
              "      <th>gender_of_respondent</th>\n",
              "      <th>household_size</th>\n",
              "      <th>job_type</th>\n",
              "      <th>location_type</th>\n",
              "      <th>marital_status</th>\n",
              "      <th>relationship_with_head</th>\n",
              "      <th>year</th>\n",
              "    </tr>\n",
              "  </thead>\n",
              "  <tbody>\n",
              "    <tr>\n",
              "      <th>0</th>\n",
              "      <td>2.213364</td>\n",
              "      <td>Yes</td>\n",
              "      <td>Kenya</td>\n",
              "      <td>Secondary education</td>\n",
              "      <td>Female</td>\n",
              "      <td>1.732051</td>\n",
              "      <td>Self employed</td>\n",
              "      <td>Rural</td>\n",
              "      <td>Married/Living together</td>\n",
              "      <td>Spouse</td>\n",
              "      <td>2</td>\n",
              "    </tr>\n",
              "    <tr>\n",
              "      <th>1</th>\n",
              "      <td>2.892508</td>\n",
              "      <td>No</td>\n",
              "      <td>Kenya</td>\n",
              "      <td>No formal education</td>\n",
              "      <td>Female</td>\n",
              "      <td>2.236068</td>\n",
              "      <td>Government Dependent</td>\n",
              "      <td>Rural</td>\n",
              "      <td>Widowed</td>\n",
              "      <td>Head of Household</td>\n",
              "      <td>2</td>\n",
              "    </tr>\n",
              "    <tr>\n",
              "      <th>2</th>\n",
              "      <td>2.258101</td>\n",
              "      <td>Yes</td>\n",
              "      <td>Kenya</td>\n",
              "      <td>Vocational/Specialised training</td>\n",
              "      <td>Male</td>\n",
              "      <td>2.236068</td>\n",
              "      <td>Self employed</td>\n",
              "      <td>Urban</td>\n",
              "      <td>Single/Never Married</td>\n",
              "      <td>Other relative</td>\n",
              "      <td>2</td>\n",
              "    </tr>\n",
              "    <tr>\n",
              "      <th>3</th>\n",
              "      <td>2.414736</td>\n",
              "      <td>Yes</td>\n",
              "      <td>Kenya</td>\n",
              "      <td>Primary education</td>\n",
              "      <td>Female</td>\n",
              "      <td>2.236068</td>\n",
              "      <td>Formally employed Private</td>\n",
              "      <td>Rural</td>\n",
              "      <td>Married/Living together</td>\n",
              "      <td>Head of Household</td>\n",
              "      <td>2</td>\n",
              "    </tr>\n",
              "    <tr>\n",
              "      <th>4</th>\n",
              "      <td>2.258101</td>\n",
              "      <td>No</td>\n",
              "      <td>Kenya</td>\n",
              "      <td>Primary education</td>\n",
              "      <td>Male</td>\n",
              "      <td>2.828427</td>\n",
              "      <td>Informally employed</td>\n",
              "      <td>Urban</td>\n",
              "      <td>Single/Never Married</td>\n",
              "      <td>Child</td>\n",
              "      <td>2</td>\n",
              "    </tr>\n",
              "  </tbody>\n",
              "</table>\n",
              "</div>"
            ],
            "text/plain": [
              "   age_of_respondent cellphone_access  ... relationship_with_head year\n",
              "0           2.213364              Yes  ...                 Spouse    2\n",
              "1           2.892508               No  ...      Head of Household    2\n",
              "2           2.258101              Yes  ...         Other relative    2\n",
              "3           2.414736              Yes  ...      Head of Household    2\n",
              "4           2.258101               No  ...                  Child    2\n",
              "\n",
              "[5 rows x 11 columns]"
            ]
          },
          "metadata": {
            "tags": []
          },
          "execution_count": 60
        }
      ]
    },
    {
      "cell_type": "code",
      "metadata": {
        "id": "svOwTIwsVcO5",
        "colab_type": "code",
        "colab": {}
      },
      "source": [
        "train = df[:ntrain]\n",
        "test = df[ntrain:]"
      ],
      "execution_count": 0,
      "outputs": []
    },
    {
      "cell_type": "code",
      "metadata": {
        "id": "BBuRHmbTVl6o",
        "colab_type": "code",
        "colab": {}
      },
      "source": [
        "from sklearn.model_selection import KFold\n",
        "\n",
        "from sklearn.model_selection import cross_val_score\n",
        "\n",
        "k_fold = KFold(n_splits = 10, shuffle = True, random_state  =0)"
      ],
      "execution_count": 0,
      "outputs": []
    },
    {
      "cell_type": "code",
      "metadata": {
        "id": "OzoJEr3VVrcP",
        "colab_type": "code",
        "colab": {}
      },
      "source": [
        "from sklearn.metrics import accuracy_score, log_loss\n",
        "from sklearn.svm import SVC, LinearSVC, NuSVC\n",
        "from sklearn.tree import DecisionTreeClassifier\n",
        "from sklearn.ensemble import RandomForestClassifier, AdaBoostClassifier, GradientBoostingClassifier\n",
        "from sklearn.naive_bayes import GaussianNB\n",
        "from sklearn.discriminant_analysis import LinearDiscriminantAnalysis\n",
        "from sklearn.discriminant_analysis import QuadraticDiscriminantAnalysis\n",
        "from sklearn.neighbors import KNeighborsClassifier\n"
      ],
      "execution_count": 0,
      "outputs": []
    },
    {
      "cell_type": "code",
      "metadata": {
        "id": "4ZGQtY2SVwNA",
        "colab_type": "code",
        "colab": {}
      },
      "source": [
        "classifiers = [\n",
        "    SVC(),\n",
        "    KNeighborsClassifier(),\n",
        "    DecisionTreeClassifier(),\n",
        "    RandomForestClassifier(),\n",
        "    AdaBoostClassifier(),\n",
        "    GradientBoostingClassifier(),\n",
        "    GaussianNB(),\n",
        "    LinearDiscriminantAnalysis(),\n",
        "    QuadraticDiscriminantAnalysis()]"
      ],
      "execution_count": 0,
      "outputs": []
    },
    {
      "cell_type": "code",
      "metadata": {
        "id": "SUx9S_YwWWio",
        "colab_type": "code",
        "colab": {}
      },
      "source": [
        "for clf in classifiers:\n",
        "    \n",
        "    name = clf.__class__.__name__\n",
        "    \n",
        "    print(\"=\"*30)\n",
        "    print(name)\n",
        "    \n",
        "    print('****Results****')\n",
        "    \n",
        "    scoring = 'accuracy'\n",
        "\n",
        "    score = cross_val_score(clf, train, y_train, cv = k_fold, n_jobs = 1, scoring = scoring)\n",
        "    print(score)\n",
        "    \n",
        "    print(1 - (np.mean(score)))\n",
        "    \n",
        "    \n",
        "    \n",
        "print(\"=\"*30)"
      ],
      "execution_count": 0,
      "outputs": []
    },
    {
      "cell_type": "code",
      "metadata": {
        "id": "EE_DgvnUbBAi",
        "colab_type": "code",
        "colab": {
          "base_uri": "https://localhost:8080/",
          "height": 51
        },
        "outputId": "1b8b8f41-ae60-4ebf-cd31-c326c520486b"
      },
      "source": [
        "from sklearn.model_selection import GridSearchCV\n",
        "from sklearn.ensemble import BaggingClassifier\n",
        "params =  {'n_estimators':[10, 25, 50, 100], 'max_samples':[1, 3, 5, 10]}\n",
        "bag = BaggingClassifier(random_state = 0)\n",
        "clf = GridSearchCV(bag, param_grid = params, scoring = 'accuracy', cv = 5, n_jobs = -1)\n",
        "\n",
        "clf.fit(train, y_train)\n",
        "print('Best score: {}'.format(clf.best_score_))\n",
        "print('Best parameters: {}'.format(clf.best_params_))\n",
        "\n",
        "bag_best = BaggingClassifier(max_samples = 5, n_estimators = 25, random_state = 0)"
      ],
      "execution_count": 71,
      "outputs": [
        {
          "output_type": "stream",
          "text": [
            "Best score: 0.8595424391903385\n",
            "Best parameters: {'max_samples': 10, 'n_estimators': 25}\n"
          ],
          "name": "stdout"
        }
      ]
    },
    {
      "cell_type": "code",
      "metadata": {
        "id": "gGRaqOCfbXgY",
        "colab_type": "code",
        "colab": {
          "base_uri": "https://localhost:8080/",
          "height": 51
        },
        "outputId": "df02c5b8-a9b7-4b36-8229-7710c2c715e8"
      },
      "source": [
        "\n",
        "params = {'n_estimators':[50, 100, 150, 200], 'learning_rate':[0.1,0.3,0.5,0.7,1]}\n",
        "grad = GradientBoostingClassifier(random_state = 0)\n",
        "\n",
        "clf = GridSearchCV(grad, param_grid = params, scoring = 'accuracy', cv = 5, n_jobs = -1)\n",
        "\n",
        "clf.fit(train, y_train)\n",
        "print('Best score: {}'.format(clf.best_score_))\n",
        "print('Best parameters: {}'.format(clf.best_params_))\n"
      ],
      "execution_count": 73,
      "outputs": [
        {
          "output_type": "stream",
          "text": [
            "Best score: 0.8295203265861542\n",
            "Best parameters: {'learning_rate': 0.1, 'n_estimators': 50}\n"
          ],
          "name": "stdout"
        }
      ]
    },
    {
      "cell_type": "code",
      "metadata": {
        "id": "Mi9CS4eRWh1_",
        "colab_type": "code",
        "colab": {}
      },
      "source": [
        "grad_model = classifiers[5]\n",
        "grad_model.fit(train, y_train)\n",
        "pred = grad_model.predict(test)"
      ],
      "execution_count": 0,
      "outputs": []
    },
    {
      "cell_type": "code",
      "metadata": {
        "id": "A7hwjNiQaJ1u",
        "colab_type": "code",
        "colab": {}
      },
      "source": [
        "sub = pd.DataFrame()\n",
        "sub['uniqueid'] = submission['uniqueid']\n",
        "sub['bank_account'] = pred\n",
        "sub.to_csv('NEWsubmission.csv',index=False)\n",
        "from google.colab import files\n",
        "files.download(\"NEWsubmission.csv\")"
      ],
      "execution_count": 0,
      "outputs": []
    },
    {
      "cell_type": "code",
      "metadata": {
        "id": "WNXi3AWhaQCu",
        "colab_type": "code",
        "colab": {}
      },
      "source": [
        ""
      ],
      "execution_count": 0,
      "outputs": []
    }
  ]
}